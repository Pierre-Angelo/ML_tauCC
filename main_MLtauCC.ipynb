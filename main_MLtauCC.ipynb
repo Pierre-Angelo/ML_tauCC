{
 "cells": [
  {
   "cell_type": "code",
   "execution_count": 2,
   "metadata": {},
   "outputs": [
    {
     "name": "stdout",
     "output_type": "stream",
     "text": [
      "CUDA is supported by this system. \n",
      "CUDA version: 11.8\n",
      "Device : cuda:0\n"
     ]
    }
   ],
   "source": [
    "import numpy as np\n",
    "import pandas as pd\n",
    "import torch\n",
    "\n",
    "import matplotlib.pyplot as plt\n",
    "#from tauccML_GNN import TwoGNN \n",
    "from torch_geometric.utils import degree\n",
    "from collections import Counter\n",
    "from sklearn.decomposition import PCA\n",
    "from sklearn.preprocessing import StandardScaler\n",
    "#from sklearn.metrics import normalized_mutual_info_score as nmi\n",
    "#from sklearn.metrics import adjusted_rand_score as ari\n",
    "import random\n",
    "import os\n",
    "\n",
    "\n",
    "if torch.cuda.is_available() :\n",
    "  print(f\"CUDA is supported by this system. \\nCUDA version: {torch.version.cuda}\")\n",
    "  dev = \"cuda:0\"\n",
    "else :\n",
    "  dev = \"cpu\"\n",
    "\n",
    "print(f\"Device : {dev}\")\n",
    "device = torch.device(dev) "
   ]
  },
  {
   "cell_type": "code",
   "execution_count": 3,
   "metadata": {},
   "outputs": [],
   "source": [
    "def adj_corrrelation(data, edge_thr = 0):\n",
    "  adj = np.corrcoef(data)\n",
    "  adj[np.isnan(adj)] = 0\n",
    "  adj[adj < edge_thr] = 0\n",
    "\n",
    "  return adj\n",
    "\n",
    "def adj_cooccurence(data, edge_thr = 1):\n",
    "  adj = np.matmul(data,data.T)\n",
    "  np.fill_diagonal(adj,0)\n",
    "  adj[adj < edge_thr] = 0\n",
    "\n",
    "  return adj"
   ]
  },
  {
   "cell_type": "code",
   "execution_count": 22,
   "metadata": {},
   "outputs": [],
   "source": [
    "dataset =\"sports\"\n",
    "\n",
    "input_CSV = pd.read_csv(f'./datasets/{dataset}.txt')\n",
    "\n",
    "table_size_x = len(input_CSV.doc.unique())\n",
    "table_size_y = len(input_CSV.word.unique())\n",
    "input_table = np.zeros((table_size_x,table_size_y), dtype = int)\n",
    "for row in input_CSV.iterrows():\n",
    "    input_table[row[1].doc,row[1].word] = row[1].cluster\n",
    "\n"
   ]
  },
  {
   "cell_type": "code",
   "execution_count": null,
   "metadata": {},
   "outputs": [],
   "source": [
    "ccoef = np.corrcoef(input_table.T)\n",
    "ccoef[np.isnan(ccoef)] = 0\n",
    "ccoef[ccoef < 0.3] = 0\n",
    "\n",
    "\n",
    "\n",
    "\n",
    "#edges = cooc.nonzero().t().contiguous()\n",
    "edges = torch.from_numpy(ccoef).nonzero().t().contiguous()\n",
    "\n",
    "numbers = Counter(degree(edges[0]).numpy())\n",
    "print(len(edges[0]))\n",
    "\n",
    "fig, ax = plt.subplots()\n",
    "ax.set_xlabel('Node degree')\n",
    "ax.set_ylabel('Number of nodes')\n",
    "plt.bar(numbers.keys(), numbers.values())"
   ]
  },
  {
   "cell_type": "code",
   "execution_count": null,
   "metadata": {},
   "outputs": [],
   "source": [
    "\n",
    "pca = PCA(n_components=2)\n",
    "X = pca.fit_transform(input_table.T)\n",
    "plt.figure(figsize = (6,6))\n",
    "plt.scatter(*zip(*X))\n",
    "#print(X)"
   ]
  },
  {
   "cell_type": "code",
   "execution_count": 3,
   "metadata": {},
   "outputs": [
    {
     "name": "stdout",
     "output_type": "stream",
     "text": [
      "[[0 0 0 ... 0 0 0]\n",
      " [0 0 0 ... 0 0 0]\n",
      " [0 0 0 ... 0 0 0]\n",
      " ...\n",
      " [0 0 0 ... 0 0 0]\n",
      " [0 0 0 ... 0 0 0]\n",
      " [0 0 0 ... 0 0 0]]\n"
     ]
    }
   ],
   "source": [
    "datasets = [\"cstr\", \"tr11\", \"classic3\", \"hitech\", \"k1b\", \"reviews\", \"sports\"]\n",
    "explained_variance = 0.8\n",
    "pca = PCA(explained_variance)\n",
    "scaler = StandardScaler()\n",
    "\n",
    "for dataset in datasets:\n",
    "    input_CSV = pd.read_csv(f'./datasets/{dataset}.txt')\n",
    "    target_CSV = pd.read_csv(f'./datasets/{dataset}_target.txt', header = None)\n",
    "    target = np.array(target_CSV).T[0]\n",
    "\n",
    "    table_size_x = len(input_CSV.doc.unique())\n",
    "    table_size_y = len(input_CSV.word.unique())\n",
    "    input_table = np.zeros((table_size_x,table_size_y), dtype = int)\n",
    "\n",
    "    for row in input_CSV.iterrows():\n",
    "        input_table[row[1].doc,row[1].word] = row[1].cluster\n",
    "\n",
    "    print(input_table)\n",
    "    break\n",
    "\n",
    " "
   ]
  },
  {
   "cell_type": "code",
   "execution_count": 33,
   "metadata": {},
   "outputs": [
    {
     "data": {
      "text/plain": [
       "(8580, 14870)"
      ]
     },
     "execution_count": 33,
     "metadata": {},
     "output_type": "execute_result"
    }
   ],
   "source": [
    "dataset = 'sports'\n",
    "np.load(f'./data/{dataset}.npy').shape"
   ]
  },
  {
   "cell_type": "code",
   "execution_count": null,
   "metadata": {},
   "outputs": [],
   "source": [
    "I = 10 \n",
    "M = 100\n",
    "O = 100\n",
    "\n",
    "a = torch.randint(-20,0,(I,M))\n",
    "b = torch.randint(-20,0,(M,M))\n",
    "c = torch.randint(-20,0,(M,M))\n",
    "d = torch.randint(-20,0,(M,O))\n",
    "\n",
    "torch.argmax(a@b@c@d,dim=1)"
   ]
  },
  {
   "cell_type": "code",
   "execution_count": null,
   "metadata": {},
   "outputs": [],
   "source": [
    "def set_seed(seed: int = 42) -> None:\n",
    "  np.random.seed(seed)\n",
    "  random.seed(seed)\n",
    "  torch.manual_seed(seed)\n",
    "  torch.cuda.manual_seed(seed)\n",
    "  # When running on the CuDNN backend, two further options must be set\n",
    "  torch.backends.cudnn.deterministic = True\n",
    "  torch.backends.cudnn.benchmark = False\n",
    "  # Set a fixed value for the hash seed\n",
    "  os.environ[\"PYTHONHASHSEED\"] = str(seed)\n",
    "  print(f\"Random seed set as {seed}\")\n",
    "\n",
    "# Fix seed\n"
   ]
  },
  {
   "cell_type": "code",
   "execution_count": null,
   "metadata": {},
   "outputs": [],
   "source": [
    "# load data\n",
    "dataset = 'cstr' #, cstr, tr11, tr41, hitech, k1b, reviews, sports, classic3\n",
    "init = 'extract_centroids' # this is the only initialization considered in the paper UNUSED\n",
    "\n",
    "input_CSV = pd.read_csv(f'./datasets/{dataset}.txt')\n",
    "target_CSV = pd.read_csv(f'./datasets/{dataset}_target.txt', header = None)\n",
    "target = np.array(target_CSV).T[0]\n",
    "\n",
    "table_size_x = len(input_CSV.doc.unique())\n",
    "table_size_y = len(input_CSV.word.unique())\n",
    "input_table = np.zeros((table_size_x,table_size_y), dtype = int)\n",
    "\n",
    "for row in input_CSV.iterrows():\n",
    "  input_table[row[1].doc,row[1].word] = row[1].cluster"
   ]
  },
  {
   "cell_type": "code",
   "execution_count": null,
   "metadata": {},
   "outputs": [],
   "source": [
    "set_seed()\n",
    "hidden_size = 256\n",
    "embedding_size = 5\n",
    "num_epochs = 2\n",
    "input_dimx = table_size_x\n",
    "input_dimy = table_size_y\n",
    "hidden_dim = hidden_size\n",
    "output_dim = embedding_size\n",
    "num_layers = 4\n",
    "learning_rate = 1e-5\n",
    "exp_schedule = 0.9\n",
    "dtype = torch.float32\n",
    "\n",
    "print(\"dimensions\",table_size_x,table_size_y)\n",
    "data = torch.from_numpy(input_table).to(dtype).to(device)\n",
    "gnn_model = TwoGNN(input_dimx, input_dimy, hidden_dim, output_dim, num_layers, learning_rate, exp_schedule, data, device)\n",
    "\n",
    "x = data\n",
    "correlation_coefficient = np.corrcoef(x.cpu())\n",
    "correlation_coefficient[np.isnan(correlation_coefficient)] = 0\n",
    "correlation_coefficient.clip(min = 0)\n",
    "\n",
    "adjx =  torch.from_numpy(correlation_coefficient).to(dtype).to(device)\n",
    "\n",
    "y = data.T\n",
    "correlation_coefficient = np.corrcoef(y.cpu())\n",
    "correlation_coefficient[np.isnan(correlation_coefficient)] = 0\n",
    "correlation_coefficient.clip(min = 0)\n",
    "adjy =  torch.from_numpy(correlation_coefficient).to(dtype).to(device)\n"
   ]
  },
  {
   "cell_type": "code",
   "execution_count": null,
   "metadata": {},
   "outputs": [],
   "source": [
    "set_seed()\n",
    "from torch.nn.functional import gelu, softmax,relu\n",
    "input_layer = torch.nn.Linear(table_size_x,hidden_dim).to(device)\n",
    "hidden_layer1 = torch.nn.Linear(hidden_dim,hidden_dim).to(device)\n",
    "hidden_layer2 = torch.nn.Linear(hidden_dim,hidden_dim).to(device)\n",
    "output_layer = torch.nn.Linear(table_size_y,embedding_size).to(device)\n",
    "a = torch.ones(table_size_x,5).to(dtype).to(device)\n",
    "#message_passing = adjy @ a\n",
    "weights = torch.randn((5,embedding_size)).to(dtype).to(device)\n",
    "out= relu(adjx@a@weights)\n",
    "print(out.sum(dim=0))\n",
    "print(out)\n",
    "\n",
    "\n",
    "classification = softmax(out,dim=1)\n",
    "\n",
    "\n",
    "print(classification.sum(dim=0))\n",
    "lin = torch.nn.Linear(hidden_dim,hidden_dim).to(device)\n",
    "#f = lambda x : gelu(lin(adjy @ x))"
   ]
  },
  {
   "cell_type": "code",
   "execution_count": null,
   "metadata": {},
   "outputs": [],
   "source": [
    "#256221.9375 0.0484\n",
    "#370616.9688 0.0036\n",
    "adjy.mean(),adjx - adjx.mean()"
   ]
  },
  {
   "cell_type": "code",
   "execution_count": null,
   "metadata": {},
   "outputs": [],
   "source": [
    "set_seed()\n",
    "\n",
    "print(\"training start\")\n",
    "gnn_model.fit(x, adjx, y, adjy, num_epochs, embedding_size)\n",
    "\n",
    "print(\"training end\")"
   ]
  },
  {
   "cell_type": "code",
   "execution_count": null,
   "metadata": {},
   "outputs": [],
   "source": [
    "print(\"target :\", target, \"\\n\")\n",
    "\n",
    "\n",
    "gnn_model.row_labels_ = torch.argmax(gnn_model.row_labels_, dim=1)\n",
    "print(\"predicted row labels :\", gnn_model.row_labels_,\"\\n\")\n",
    "\n",
    "print(f\"nmi: {nmi(target, gnn_model.row_labels_.cpu())}\")\n",
    "print(f\"ari: {ari(target, gnn_model.row_labels_.cpu())}\")"
   ]
  },
  {
   "cell_type": "code",
   "execution_count": null,
   "metadata": {},
   "outputs": [],
   "source": [
    "fig, ax = plt.subplots()\n",
    "ax.plot(gnn_model.tau_x)\n",
    "ax.plot(gnn_model.tau_y)\n",
    "plt.plot([(gnn_model.tau_x[i] + gnn_model.tau_y[i])/2 for i in range(len(gnn_model.tau_x))])\n",
    "ax.legend(['tau x','tau y','avg tau'])\n",
    "ax.set_xlabel('iterations')\n",
    "ax.set_ylabel('tau')\n",
    "plt.show()"
   ]
  },
  {
   "cell_type": "code",
   "execution_count": null,
   "metadata": {},
   "outputs": [],
   "source": []
  }
 ],
 "metadata": {
  "kernelspec": {
   "display_name": ".venv",
   "language": "python",
   "name": "python3"
  },
  "language_info": {
   "codemirror_mode": {
    "name": "ipython",
    "version": 3
   },
   "file_extension": ".py",
   "mimetype": "text/x-python",
   "name": "python",
   "nbconvert_exporter": "python",
   "pygments_lexer": "ipython3",
   "version": "3.9.21"
  }
 },
 "nbformat": 4,
 "nbformat_minor": 2
}
